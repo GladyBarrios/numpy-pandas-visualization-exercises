{
 "cells": [
  {
   "cell_type": "code",
   "execution_count": 4,
   "id": "30a430a2",
   "metadata": {},
   "outputs": [],
   "source": [
    "import numpy as np\n",
    "import pandas as pd\n",
    "\n",
    "import matplotlib.pyplot as plt\n"
   ]
  },
  {
   "cell_type": "code",
   "execution_count": 5,
   "id": "2b49e80c",
   "metadata": {},
   "outputs": [
    {
     "data": {
      "text/plain": [
       "0                 kiwi\n",
       "1                mango\n",
       "2           strawberry\n",
       "3            pineapple\n",
       "4           gala apple\n",
       "5     honeycrisp apple\n",
       "6               tomato\n",
       "7           watermelon\n",
       "8             honeydew\n",
       "9                 kiwi\n",
       "10                kiwi\n",
       "11                kiwi\n",
       "12               mango\n",
       "13           blueberry\n",
       "14          blackberry\n",
       "15          gooseberry\n",
       "16              papaya\n",
       "dtype: object"
      ]
     },
     "execution_count": 5,
     "metadata": {},
     "output_type": "execute_result"
    }
   ],
   "source": [
    "fruits = pd.Series([\"kiwi\", \"mango\", \"strawberry\", \"pineapple\", \"gala apple\", \"honeycrisp apple\", \"tomato\", \"watermelon\", \"honeydew\", \"kiwi\", \"kiwi\", \"kiwi\", \"mango\", \"blueberry\", \"blackberry\", \"gooseberry\", \"papaya\"])\n",
    "fruits"
   ]
  },
  {
   "cell_type": "markdown",
   "id": "ff667b43",
   "metadata": {},
   "source": [
    "Determine the number of elements in fruits."
   ]
  },
  {
   "cell_type": "code",
   "execution_count": null,
   "id": "92e8d758",
   "metadata": {},
   "outputs": [],
   "source": [
    "fruits.size"
   ]
  },
  {
   "cell_type": "markdown",
   "id": "ad04e4b3",
   "metadata": {},
   "source": [
    "Output only the index from fruits.\n",
    "\n"
   ]
  },
  {
   "cell_type": "code",
   "execution_count": null,
   "id": "236b6787",
   "metadata": {},
   "outputs": [],
   "source": [
    "fruits.index"
   ]
  },
  {
   "cell_type": "markdown",
   "id": "81536eb1",
   "metadata": {},
   "source": [
    "Output only the values from fruits."
   ]
  },
  {
   "cell_type": "code",
   "execution_count": null,
   "id": "e930fa21",
   "metadata": {},
   "outputs": [],
   "source": [
    "fruits.values"
   ]
  },
  {
   "cell_type": "markdown",
   "id": "88dde126",
   "metadata": {},
   "source": [
    "Confirm the data type of the values in fruits."
   ]
  },
  {
   "cell_type": "code",
   "execution_count": null,
   "id": "8c54d5ee",
   "metadata": {},
   "outputs": [],
   "source": [
    "fruits.dtype"
   ]
  },
  {
   "cell_type": "markdown",
   "id": "d85b605b",
   "metadata": {},
   "source": [
    "Output only the first five values from fruits. "
   ]
  },
  {
   "cell_type": "code",
   "execution_count": null,
   "id": "f8688b2c",
   "metadata": {},
   "outputs": [],
   "source": [
    "fruits.head(5)"
   ]
  },
  {
   "cell_type": "markdown",
   "id": "3f358fb9",
   "metadata": {},
   "source": [
    "Output the last three values"
   ]
  },
  {
   "cell_type": "code",
   "execution_count": null,
   "id": "2a48225e",
   "metadata": {},
   "outputs": [],
   "source": [
    "fruits.tail(3)"
   ]
  },
  {
   "cell_type": "markdown",
   "id": "6bf5669d",
   "metadata": {},
   "source": [
    ". Output two random values from fruits."
   ]
  },
  {
   "cell_type": "code",
   "execution_count": null,
   "id": "464fbd53",
   "metadata": {},
   "outputs": [],
   "source": [
    "fruits.sample(2)"
   ]
  },
  {
   "cell_type": "markdown",
   "id": "009658e8",
   "metadata": {},
   "source": [
    "Run the .describe() on fruits to see what information it returns when called on a Series with string values."
   ]
  },
  {
   "cell_type": "code",
   "execution_count": null,
   "id": "31d611e0",
   "metadata": {},
   "outputs": [],
   "source": [
    "fruits.describe()"
   ]
  },
  {
   "cell_type": "markdown",
   "id": "7e36d18e",
   "metadata": {},
   "source": [
    "Run the code necessary to produce only the unique string values from fruits."
   ]
  },
  {
   "cell_type": "code",
   "execution_count": null,
   "id": "ee9f0dec",
   "metadata": {},
   "outputs": [],
   "source": [
    "fruits.value_counts().index"
   ]
  },
  {
   "cell_type": "markdown",
   "id": "ff051774",
   "metadata": {},
   "source": [
    "Determine how many times each unique string value occurs in fruits."
   ]
  },
  {
   "cell_type": "code",
   "execution_count": null,
   "id": "0b033da8",
   "metadata": {
    "scrolled": true
   },
   "outputs": [],
   "source": [
    "fruitsnum = fruits.value_counts()\n",
    "fruitsnum"
   ]
  },
  {
   "cell_type": "markdown",
   "id": "495e94ac",
   "metadata": {},
   "source": [
    "Determine the string value that occurs most frequently in fruits."
   ]
  },
  {
   "cell_type": "code",
   "execution_count": null,
   "id": "ee4701f0",
   "metadata": {
    "scrolled": true
   },
   "outputs": [],
   "source": [
    "fruitsnum.nlargest(n=1)"
   ]
  },
  {
   "cell_type": "markdown",
   "id": "6717d963",
   "metadata": {},
   "source": [
    "Determine the string value that occurs least frequently in fruits."
   ]
  },
  {
   "cell_type": "code",
   "execution_count": null,
   "id": "bff7e195",
   "metadata": {},
   "outputs": [],
   "source": [
    "fruitsnum.nsmallest(n=1, keep='all')"
   ]
  },
  {
   "cell_type": "code",
   "execution_count": null,
   "id": "3c47bf7e",
   "metadata": {},
   "outputs": [],
   "source": []
  },
  {
   "cell_type": "markdown",
   "id": "a6003421",
   "metadata": {},
   "source": [
    "Exercises Part II"
   ]
  },
  {
   "cell_type": "code",
   "execution_count": null,
   "id": "d033a0eb",
   "metadata": {},
   "outputs": [],
   "source": [
    "Capitalize all the string values in fruits."
   ]
  },
  {
   "cell_type": "code",
   "execution_count": null,
   "id": "5f1b132f",
   "metadata": {},
   "outputs": [],
   "source": [
    "fruits.str.upper()"
   ]
  },
  {
   "cell_type": "markdown",
   "id": "f99c5d8d",
   "metadata": {},
   "source": [
    "Count the letter \"a\" in all the string values (use string vectorization)."
   ]
  },
  {
   "cell_type": "code",
   "execution_count": null,
   "id": "79d5bf16",
   "metadata": {},
   "outputs": [],
   "source": [
    "fruits.str.count('a')"
   ]
  },
  {
   "cell_type": "markdown",
   "id": "a1c516d9",
   "metadata": {},
   "source": [
    "Output the number of vowels in each and every string value."
   ]
  },
  {
   "cell_type": "code",
   "execution_count": 1,
   "id": "a72cdb3f",
   "metadata": {},
   "outputs": [
    {
     "data": {
      "text/plain": [
       "['a', 'e', 'i', 'o', 'u']"
      ]
     },
     "execution_count": 1,
     "metadata": {},
     "output_type": "execute_result"
    }
   ],
   "source": [
    "vowels = list('aeiou')\n",
    "vowels"
   ]
  },
  {
   "cell_type": "code",
   "execution_count": 6,
   "id": "3ac48368",
   "metadata": {
    "scrolled": false
   },
   "outputs": [
    {
     "data": {
      "text/plain": [
       "0     2\n",
       "1     2\n",
       "2     2\n",
       "3     4\n",
       "4     4\n",
       "5     5\n",
       "6     3\n",
       "7     4\n",
       "8     3\n",
       "9     2\n",
       "10    2\n",
       "11    2\n",
       "12    2\n",
       "13    3\n",
       "14    2\n",
       "15    4\n",
       "16    3\n",
       "dtype: int64"
      ]
     },
     "execution_count": 6,
     "metadata": {},
     "output_type": "execute_result"
    }
   ],
   "source": [
    "vowel_number = fruits.str.count('[aeiou]')\n",
    "vowel_number"
   ]
  },
  {
   "cell_type": "code",
   "execution_count": null,
   "id": "8e436668",
   "metadata": {},
   "outputs": [],
   "source": []
  },
  {
   "cell_type": "markdown",
   "id": "2cac23a7",
   "metadata": {},
   "source": [
    "Write the code to get the longest string value from fruits."
   ]
  },
  {
   "cell_type": "code",
   "execution_count": null,
   "id": "8d18e743",
   "metadata": {},
   "outputs": [],
   "source": [
    "max(fruits, key =len)"
   ]
  },
  {
   "cell_type": "markdown",
   "id": "7a953a6e",
   "metadata": {},
   "source": [
    "Write the code to get the string values with 5 or more letters in the name"
   ]
  },
  {
   "cell_type": "code",
   "execution_count": null,
   "id": "c3ce2a47",
   "metadata": {},
   "outputs": [],
   "source": [
    "fruits[fruits.str.len() >= 5]"
   ]
  },
  {
   "cell_type": "markdown",
   "id": "f424a95a",
   "metadata": {},
   "source": [
    "Find the fruit(s) containing the letter \"o\" two or more times"
   ]
  },
  {
   "cell_type": "code",
   "execution_count": null,
   "id": "5d7f633d",
   "metadata": {},
   "outputs": [],
   "source": [
    "fruits[fruits.str.count('o') >= 2]"
   ]
  },
  {
   "cell_type": "markdown",
   "id": "c281b472",
   "metadata": {},
   "source": [
    "Write the code to get only the string values containing the substring \"berry\"."
   ]
  },
  {
   "cell_type": "code",
   "execution_count": null,
   "id": "79ba91b9",
   "metadata": {},
   "outputs": [],
   "source": [
    "fruits[fruits.str.count('berry') > 0]"
   ]
  },
  {
   "cell_type": "markdown",
   "id": "b8abef0d",
   "metadata": {},
   "source": [
    "Write the code to get only the string values containing the substring \"apple\"."
   ]
  },
  {
   "cell_type": "code",
   "execution_count": null,
   "id": "57bc8372",
   "metadata": {},
   "outputs": [],
   "source": [
    "fruits[fruits.str.count('apple') > 0]"
   ]
  },
  {
   "cell_type": "markdown",
   "id": "39f252ab",
   "metadata": {},
   "source": [
    "Which string value contains the most vowels?"
   ]
  },
  {
   "cell_type": "code",
   "execution_count": null,
   "id": "a655c179",
   "metadata": {
    "scrolled": true
   },
   "outputs": [],
   "source": [
    "fruits[vowel_number.max()]"
   ]
  },
  {
   "cell_type": "markdown",
   "id": "54123525",
   "metadata": {},
   "source": [
    "Exercises Part III"
   ]
  },
  {
   "cell_type": "code",
   "execution_count": 15,
   "id": "45a40b95",
   "metadata": {},
   "outputs": [
    {
     "data": {
      "text/plain": [
       "['h',\n",
       " 'n',\n",
       " 'v',\n",
       " 'i',\n",
       " 'd',\n",
       " 'd',\n",
       " 'u',\n",
       " 'c',\n",
       " 'k',\n",
       " 'k',\n",
       " 'q',\n",
       " 'x',\n",
       " 'w',\n",
       " 'y',\n",
       " 'm',\n",
       " 'b',\n",
       " 'i',\n",
       " 'm',\n",
       " 'k',\n",
       " 'c',\n",
       " 'c',\n",
       " 'e',\n",
       " 'x',\n",
       " 'b',\n",
       " 'k',\n",
       " 'm',\n",
       " 'q',\n",
       " 'y',\n",
       " 'g',\n",
       " 'k',\n",
       " 'x',\n",
       " 'o',\n",
       " 'y',\n",
       " 'n',\n",
       " 'd',\n",
       " 'm',\n",
       " 'c',\n",
       " 'x',\n",
       " 'n',\n",
       " 'w',\n",
       " 'q',\n",
       " 'a',\n",
       " 'r',\n",
       " 'h',\n",
       " 'y',\n",
       " 'f',\n",
       " 'f',\n",
       " 's',\n",
       " 'j',\n",
       " 'p',\n",
       " 's',\n",
       " 'r',\n",
       " 'a',\n",
       " 'b',\n",
       " 't',\n",
       " 'j',\n",
       " 'z',\n",
       " 's',\n",
       " 'y',\n",
       " 'p',\n",
       " 'm',\n",
       " 'z',\n",
       " 'a',\n",
       " 'd',\n",
       " 'f',\n",
       " 'a',\n",
       " 'v',\n",
       " 'y',\n",
       " 'r',\n",
       " 'n',\n",
       " 'n',\n",
       " 'd',\n",
       " 'n',\n",
       " 'd',\n",
       " 'v',\n",
       " 's',\n",
       " 'w',\n",
       " 'r',\n",
       " 'e',\n",
       " 'a',\n",
       " 'u',\n",
       " 'x',\n",
       " 'o',\n",
       " 'v',\n",
       " 'n',\n",
       " 'c',\n",
       " 'x',\n",
       " 't',\n",
       " 'w',\n",
       " 'z',\n",
       " 'p',\n",
       " 'w',\n",
       " 'e',\n",
       " 'j',\n",
       " 'i',\n",
       " 'l',\n",
       " 'z',\n",
       " 'j',\n",
       " 'r',\n",
       " 'm',\n",
       " 'm',\n",
       " 'b',\n",
       " 'b',\n",
       " 'g',\n",
       " 'b',\n",
       " 'y',\n",
       " 'x',\n",
       " 'v',\n",
       " 'j',\n",
       " 't',\n",
       " 'e',\n",
       " 'w',\n",
       " 'q',\n",
       " 't',\n",
       " 'h',\n",
       " 'a',\n",
       " 'f',\n",
       " 'n',\n",
       " 'b',\n",
       " 'k',\n",
       " 'q',\n",
       " 'p',\n",
       " 'l',\n",
       " 'a',\n",
       " 'r',\n",
       " 'o',\n",
       " 'k',\n",
       " 'k',\n",
       " 'y',\n",
       " 'y',\n",
       " 'd',\n",
       " 't',\n",
       " 'u',\n",
       " 'b',\n",
       " 'b',\n",
       " 'm',\n",
       " 'n',\n",
       " 'e',\n",
       " 'x',\n",
       " 'o',\n",
       " 'y',\n",
       " 'p',\n",
       " 'u',\n",
       " 'l',\n",
       " 'z',\n",
       " 'w',\n",
       " 'f',\n",
       " 'h',\n",
       " 'q',\n",
       " 'v',\n",
       " 'c',\n",
       " 'k',\n",
       " 'd',\n",
       " 'p',\n",
       " 'q',\n",
       " 't',\n",
       " 'p',\n",
       " 'o',\n",
       " 'p',\n",
       " 'p',\n",
       " 'z',\n",
       " 'q',\n",
       " 'r',\n",
       " 'm',\n",
       " 'c',\n",
       " 'v',\n",
       " 'h',\n",
       " 'h',\n",
       " 'p',\n",
       " 'w',\n",
       " 'g',\n",
       " 'j',\n",
       " 'w',\n",
       " 'u',\n",
       " 'p',\n",
       " 'g',\n",
       " 'z',\n",
       " 'h',\n",
       " 'i',\n",
       " 'o',\n",
       " 'f',\n",
       " 'o',\n",
       " 'h',\n",
       " 'a',\n",
       " 'w',\n",
       " 'y',\n",
       " 't',\n",
       " 'l',\n",
       " 's',\n",
       " 'i',\n",
       " 'y',\n",
       " 'e',\n",
       " 'c',\n",
       " 'u',\n",
       " 'p',\n",
       " 'r',\n",
       " 'o',\n",
       " 'g',\n",
       " 'u',\n",
       " 'y']"
      ]
     },
     "execution_count": 15,
     "metadata": {},
     "output_type": "execute_result"
    }
   ],
   "source": [
    "long_list = list('hnvidduckkqxwymbimkccexbkmqygkxoyndmcxnwqarhyffsjpsrabtjzsypmzadfavyrnndndvswreauxovncxtwzpwejilzjrmmbbgbyxvjtewqthafnbkqplarokkyydtubbmnexoypulzwfhqvckdpqtpoppzqrmcvhhpwgjwupgzhiofohawytlsiyecuproguy')\n",
    "long_list"
   ]
  },
  {
   "cell_type": "code",
   "execution_count": 8,
   "id": "5101725d",
   "metadata": {},
   "outputs": [],
   "source": [
    "letters = pd.Series(long_list)"
   ]
  },
  {
   "cell_type": "code",
   "execution_count": 9,
   "id": "56fef72d",
   "metadata": {},
   "outputs": [
    {
     "data": {
      "text/plain": [
       "0      h\n",
       "1      n\n",
       "2      v\n",
       "3      i\n",
       "4      d\n",
       "      ..\n",
       "195    r\n",
       "196    o\n",
       "197    g\n",
       "198    u\n",
       "199    y\n",
       "Length: 200, dtype: object"
      ]
     },
     "execution_count": 9,
     "metadata": {},
     "output_type": "execute_result"
    }
   ],
   "source": [
    "letters"
   ]
  },
  {
   "cell_type": "markdown",
   "id": "ac9956fa",
   "metadata": {},
   "source": [
    "Which letter occurs the most frequently in the letters Series?"
   ]
  },
  {
   "cell_type": "code",
   "execution_count": 10,
   "id": "e99ffeeb",
   "metadata": {
    "scrolled": true
   },
   "outputs": [
    {
     "data": {
      "text/plain": [
       "y    13\n",
       "p    12\n",
       "w    10\n",
       "b     9\n",
       "n     9\n",
       "k     9\n",
       "m     9\n",
       "r     8\n",
       "a     8\n",
       "o     8\n",
       "h     8\n",
       "x     8\n",
       "q     8\n",
       "c     8\n",
       "d     8\n",
       "u     7\n",
       "v     7\n",
       "t     7\n",
       "z     7\n",
       "e     6\n",
       "f     6\n",
       "j     6\n",
       "g     5\n",
       "i     5\n",
       "s     5\n",
       "l     4\n",
       "dtype: int64"
      ]
     },
     "execution_count": 10,
     "metadata": {},
     "output_type": "execute_result"
    }
   ],
   "source": [
    "common_letter = letters.value_counts()\n",
    "common_letter"
   ]
  },
  {
   "cell_type": "code",
   "execution_count": 11,
   "id": "fc2b0f24",
   "metadata": {},
   "outputs": [
    {
     "data": {
      "text/plain": [
       "y    13\n",
       "dtype: int64"
      ]
     },
     "execution_count": 11,
     "metadata": {},
     "output_type": "execute_result"
    }
   ],
   "source": [
    "common_letter.nlargest(n=1, keep='first')"
   ]
  },
  {
   "cell_type": "markdown",
   "id": "28fe2e78",
   "metadata": {},
   "source": [
    "Which letter occurs the Least frequently?"
   ]
  },
  {
   "cell_type": "code",
   "execution_count": null,
   "id": "a6805b30",
   "metadata": {},
   "outputs": [],
   "source": []
  },
  {
   "cell_type": "code",
   "execution_count": 13,
   "id": "d8f7f232",
   "metadata": {},
   "outputs": [
    {
     "data": {
      "text/plain": [
       "l    4\n",
       "dtype: int64"
      ]
     },
     "execution_count": 13,
     "metadata": {},
     "output_type": "execute_result"
    }
   ],
   "source": [
    "common_letter.nsmallest(n=1, keep='last')"
   ]
  },
  {
   "cell_type": "markdown",
   "id": "0f8b4084",
   "metadata": {},
   "source": [
    "How many vowels are in the Series?"
   ]
  },
  {
   "cell_type": "code",
   "execution_count": 18,
   "id": "1fcb966b",
   "metadata": {},
   "outputs": [
    {
     "data": {
      "text/plain": [
       "['a', 'e', 'i', 'o', 'u']"
      ]
     },
     "execution_count": 18,
     "metadata": {},
     "output_type": "execute_result"
    }
   ],
   "source": [
    "# Create a list of vowels.\n",
    "\n",
    "vowels = list('aeiou')\n",
    "vowels\n"
   ]
  },
  {
   "cell_type": "code",
   "execution_count": 19,
   "id": "c22cea69",
   "metadata": {},
   "outputs": [
    {
     "data": {
      "text/plain": [
       "0      False\n",
       "1      False\n",
       "2      False\n",
       "3       True\n",
       "4      False\n",
       "       ...  \n",
       "195    False\n",
       "196     True\n",
       "197    False\n",
       "198     True\n",
       "199    False\n",
       "Length: 200, dtype: bool"
      ]
     },
     "execution_count": 19,
     "metadata": {},
     "output_type": "execute_result"
    }
   ],
   "source": [
    "letters.isin(vowels)"
   ]
  },
  {
   "cell_type": "code",
   "execution_count": 20,
   "id": "9b1fd381",
   "metadata": {
    "scrolled": true
   },
   "outputs": [
    {
     "data": {
      "text/plain": [
       "34"
      ]
     },
     "execution_count": 20,
     "metadata": {},
     "output_type": "execute_result"
    }
   ],
   "source": [
    "letters.isin(vowels).sum()"
   ]
  },
  {
   "cell_type": "code",
   "execution_count": null,
   "id": "226ba57d",
   "metadata": {},
   "outputs": [],
   "source": []
  },
  {
   "cell_type": "markdown",
   "id": "a3af1189",
   "metadata": {},
   "source": [
    "How many consonants are in the Series?"
   ]
  },
  {
   "cell_type": "code",
   "execution_count": 25,
   "id": "d72d68b4",
   "metadata": {},
   "outputs": [
    {
     "data": {
      "text/plain": [
       "166"
      ]
     },
     "execution_count": 25,
     "metadata": {},
     "output_type": "execute_result"
    }
   ],
   "source": [
    "len(letters) - (letters.isin(vowels)).sum()"
   ]
  },
  {
   "cell_type": "code",
   "execution_count": 23,
   "id": "0b1b33e3",
   "metadata": {},
   "outputs": [
    {
     "name": "stdout",
     "output_type": "stream",
     "text": [
      "is cons \n",
      "is cons \n",
      "is cons \n",
      "is cons \n",
      "is cons \n",
      "is cons \n",
      "is cons \n",
      "is cons \n",
      "is cons \n",
      "is cons \n",
      "is cons \n",
      "is cons \n",
      "is cons \n",
      "is cons \n",
      "is cons \n",
      "is cons \n",
      "is cons \n",
      "is cons \n",
      "is cons \n",
      "is cons \n",
      "is cons \n",
      "is cons \n",
      "is cons \n",
      "is cons \n",
      "is cons \n",
      "is cons \n",
      "is cons \n",
      "is cons \n",
      "is cons \n",
      "is cons \n",
      "is cons \n",
      "is cons \n",
      "is cons \n",
      "is cons \n",
      "is cons \n",
      "is cons \n",
      "is cons \n",
      "is cons \n",
      "is cons \n",
      "is cons \n",
      "is cons \n",
      "is cons \n",
      "is cons \n",
      "is cons \n",
      "is cons \n",
      "is cons \n",
      "is cons \n",
      "is cons \n",
      "is cons \n",
      "is cons \n",
      "is cons \n",
      "is cons \n",
      "is cons \n",
      "is cons \n",
      "is cons \n",
      "is cons \n",
      "is cons \n",
      "is cons \n",
      "is cons \n",
      "is cons \n",
      "is cons \n",
      "is cons \n",
      "is cons \n",
      "is cons \n",
      "is cons \n",
      "is cons \n",
      "is cons \n",
      "is cons \n",
      "is cons \n",
      "is cons \n",
      "is cons \n",
      "is cons \n",
      "is cons \n",
      "is cons \n",
      "is cons \n",
      "is cons \n",
      "is cons \n",
      "is cons \n",
      "is cons \n",
      "is cons \n",
      "is cons \n",
      "is cons \n",
      "is cons \n",
      "is cons \n",
      "is cons \n",
      "is cons \n",
      "is cons \n",
      "is cons \n",
      "is cons \n",
      "is cons \n",
      "is cons \n",
      "is cons \n",
      "is cons \n",
      "is cons \n",
      "is cons \n",
      "is cons \n",
      "is cons \n",
      "is cons \n",
      "is cons \n",
      "is cons \n",
      "is cons \n",
      "is cons \n",
      "is cons \n",
      "is cons \n",
      "is cons \n",
      "is cons \n",
      "is cons \n",
      "is cons \n",
      "is cons \n",
      "is cons \n",
      "is cons \n",
      "is cons \n",
      "is cons \n",
      "is cons \n",
      "is cons \n",
      "is cons \n",
      "is cons \n",
      "is cons \n",
      "is cons \n",
      "is cons \n",
      "is cons \n",
      "is cons \n",
      "is cons \n",
      "is cons \n",
      "is cons \n",
      "is cons \n",
      "is cons \n",
      "is cons \n",
      "is cons \n",
      "is cons \n",
      "is cons \n",
      "is cons \n",
      "is cons \n",
      "is cons \n",
      "is cons \n",
      "is cons \n",
      "is cons \n",
      "is cons \n",
      "is cons \n",
      "is cons \n",
      "is cons \n",
      "is cons \n",
      "is cons \n",
      "is cons \n",
      "is cons \n",
      "is cons \n",
      "is cons \n",
      "is cons \n",
      "is cons \n",
      "is cons \n",
      "is cons \n",
      "is cons \n",
      "is cons \n",
      "is cons \n",
      "is cons \n",
      "is cons \n",
      "is cons \n",
      "is cons \n",
      "is cons \n",
      "is cons \n",
      "is cons \n",
      "is cons \n",
      "is cons \n",
      "is cons \n",
      "is cons \n",
      "is cons \n",
      "is cons \n",
      "is cons \n",
      "is cons \n",
      "is cons \n",
      "is cons \n",
      "is cons \n",
      "is cons \n",
      "is cons \n",
      "is cons \n",
      "is cons \n",
      "is cons \n",
      "is cons \n",
      "is cons \n",
      "is cons \n",
      "is cons \n",
      "is cons \n",
      "is cons \n",
      "is cons \n",
      "is cons \n",
      "is cons \n",
      "is cons \n",
      "is cons \n",
      "is cons \n",
      "is cons \n",
      "is cons \n",
      "is cons \n",
      "is cons \n",
      "is cons \n",
      "is cons \n",
      "is cons \n",
      "is cons \n",
      "is cons \n",
      "is cons \n",
      "is cons \n"
     ]
    },
    {
     "data": {
      "text/plain": [
       "0      None\n",
       "1      None\n",
       "2      None\n",
       "3      None\n",
       "4      None\n",
       "       ... \n",
       "195    None\n",
       "196    None\n",
       "197    None\n",
       "198    None\n",
       "199    None\n",
       "Length: 200, dtype: object"
      ]
     },
     "execution_count": 23,
     "metadata": {},
     "output_type": "execute_result"
    }
   ],
   "source": [
    "def is_cons(letters):\n",
    "    if letters != 'aeiou':\n",
    "        print ('is cons ')\n",
    "letters.apply(is_cons)     "
   ]
  },
  {
   "cell_type": "markdown",
   "id": "15511abc",
   "metadata": {},
   "source": [
    "Create a Series that has all of the same letters but uppercased."
   ]
  },
  {
   "cell_type": "code",
   "execution_count": null,
   "id": "5d5e21fa",
   "metadata": {},
   "outputs": [],
   "source": [
    "letters.str.upper()"
   ]
  },
  {
   "cell_type": "markdown",
   "id": "684397bb",
   "metadata": {},
   "source": [
    "Create a bar plot of the frequencies of the 6 most commonly occuring letters."
   ]
  },
  {
   "cell_type": "code",
   "execution_count": 26,
   "id": "de6b9987",
   "metadata": {},
   "outputs": [
    {
     "data": {
      "image/png": "[encoded data removed]",
      "text/plain": [
       "<Figure size 432x288 with 1 Axes>"
      ]
     },
     "metadata": {
      "needs_background": "light"
     },
     "output_type": "display_data"
    }
   ],
   "source": [
    "letters.value_counts().head(6).plot.barh(color='firebrick', width=.9)\n",
    "plt.title('most common letters')\n",
    "plt.xlabel('frequent')\n",
    "plt.ylabel('letter')\n",
    "\n",
    "plt.show()"
   ]
  },
  {
   "cell_type": "code",
   "execution_count": null,
   "id": "32dbc896",
   "metadata": {},
   "outputs": [],
   "source": []
  },
  {
   "cell_type": "code",
   "execution_count": null,
   "id": "b0658005",
   "metadata": {},
   "outputs": [],
   "source": []
  },
  {
   "cell_type": "code",
   "execution_count": null,
   "id": "1d4c85b9",
   "metadata": {},
   "outputs": [],
   "source": []
  },
  {
   "cell_type": "code",
   "execution_count": null,
   "id": "f7df6001",
   "metadata": {},
   "outputs": [],
   "source": []
  },
  {
   "cell_type": "markdown",
   "id": "703a4c15",
   "metadata": {},
   "source": [
    "    ['$796,459.41', '$278.60', '$482,571.67', '$4,503,915.98', '$2,121,418.3', '$1,260,813.3', '$87,231.01', '$1,509,175.45', '$4,138,548.00', '$2,848,913.80', '$594,715.39', '$4,789,988.17', '$4,513,644.5', '$3,191,059.97', '$1,758,712.24', '$4,338,283.54', '$4,738,303.38', '$2,791,759.67', '$769,681.94', '$452,650.23']\n"
   ]
  },
  {
   "cell_type": "code",
   "execution_count": 2,
   "id": "52d5b761",
   "metadata": {},
   "outputs": [],
   "source": [
    "numbers = pd.Series(['$796,459.41', '$278.60', '$482,571.67', '$4,503,915.98', '$2,121,418.3', '$1,260,813.3', '$87,231.01', '$1,509,175.45', '$4,138,548.00', '$2,848,913.80', '$594,715.39', '$4,789,988.17', '$4,513,644.5', '$3,191,059.97', '$1,758,712.24', '$4,338,283.54', '$4,738,303.38', '$2,791,759.67', '$769,681.94', '$452,650.23'])"
   ]
  },
  {
   "cell_type": "code",
   "execution_count": 6,
   "id": "c4b9f458",
   "metadata": {},
   "outputs": [
    {
     "data": {
      "text/plain": [
       "0       $796,459.41\n",
       "1           $278.60\n",
       "2       $482,571.67\n",
       "3     $4,503,915.98\n",
       "4      $2,121,418.3\n",
       "5      $1,260,813.3\n",
       "6        $87,231.01\n",
       "7     $1,509,175.45\n",
       "8     $4,138,548.00\n",
       "9     $2,848,913.80\n",
       "10      $594,715.39\n",
       "11    $4,789,988.17\n",
       "12     $4,513,644.5\n",
       "13    $3,191,059.97\n",
       "14    $1,758,712.24\n",
       "15    $4,338,283.54\n",
       "16    $4,738,303.38\n",
       "17    $2,791,759.67\n",
       "18      $769,681.94\n",
       "19      $452,650.23\n",
       "dtype: object"
      ]
     },
     "execution_count": 6,
     "metadata": {},
     "output_type": "execute_result"
    }
   ],
   "source": [
    "numbers"
   ]
  },
  {
   "cell_type": "markdown",
   "id": "c7620bd1",
   "metadata": {},
   "source": [
    "What is the data type of the numbers Series?\n",
    "\n"
   ]
  },
  {
   "cell_type": "code",
   "execution_count": 7,
   "id": "fdc17401",
   "metadata": {},
   "outputs": [
    {
     "data": {
      "text/plain": [
       "dtype('O')"
      ]
     },
     "execution_count": 7,
     "metadata": {},
     "output_type": "execute_result"
    }
   ],
   "source": [
    "numbers.dtype\n"
   ]
  },
  {
   "cell_type": "markdown",
   "id": "26fa8d5c",
   "metadata": {},
   "source": [
    "How many elements are in the number Series?"
   ]
  },
  {
   "cell_type": "code",
   "execution_count": 10,
   "id": "105ba16f",
   "metadata": {},
   "outputs": [
    {
     "data": {
      "text/plain": [
       "20"
      ]
     },
     "execution_count": 10,
     "metadata": {},
     "output_type": "execute_result"
    }
   ],
   "source": [
    "numbers.size"
   ]
  },
  {
   "cell_type": "markdown",
   "id": "3d426372",
   "metadata": {},
   "source": [
    "Perform the necessary manipulations by accessing Series attributes and methods to convert the numbers Series to a numeric data type."
   ]
  },
  {
   "cell_type": "code",
   "execution_count": null,
   "id": "491c777f",
   "metadata": {},
   "outputs": [],
   "source": [
    "#remove the dollar and the comma?? then make to a float "
   ]
  },
  {
   "cell_type": "code",
   "execution_count": 9,
   "id": "a61549c0",
   "metadata": {
    "scrolled": true
   },
   "outputs": [
    {
     "name": "stderr",
     "output_type": "stream",
     "text": [
      "/var/folders/f1/8blv52r50y1cffy2qpp05b5c0000gn/T/ipykernel_34550/3544865652.py:1: FutureWarning: The default value of regex will change from True to False in a future version. In addition, single character regular expressions will *not* be treated as literal strings when regex=True.\n",
      "  new_number = numbers.str.replace('$','').str.replace(',','')\n"
     ]
    },
    {
     "data": {
      "text/plain": [
       "0      796459.41\n",
       "1         278.60\n",
       "2      482571.67\n",
       "3     4503915.98\n",
       "4      2121418.3\n",
       "5      1260813.3\n",
       "6       87231.01\n",
       "7     1509175.45\n",
       "8     4138548.00\n",
       "9     2848913.80\n",
       "10     594715.39\n",
       "11    4789988.17\n",
       "12     4513644.5\n",
       "13    3191059.97\n",
       "14    1758712.24\n",
       "15    4338283.54\n",
       "16    4738303.38\n",
       "17    2791759.67\n",
       "18     769681.94\n",
       "19     452650.23\n",
       "dtype: object"
      ]
     },
     "execution_count": 9,
     "metadata": {},
     "output_type": "execute_result"
    }
   ],
   "source": [
    "new_number = numbers.str.replace('$','').str.replace(',','')\n",
    "\n",
    "new_number"
   ]
  },
  {
   "cell_type": "code",
   "execution_count": 11,
   "id": "e0af51a8",
   "metadata": {},
   "outputs": [],
   "source": [
    "number_float = new_number.astype('float')"
   ]
  },
  {
   "cell_type": "code",
   "execution_count": null,
   "id": "cb06fab6",
   "metadata": {},
   "outputs": [],
   "source": []
  },
  {
   "cell_type": "markdown",
   "id": "24af6afd",
   "metadata": {},
   "source": [
    "Run the code to discover the maximum value from the Series."
   ]
  },
  {
   "cell_type": "code",
   "execution_count": 13,
   "id": "c5c4fab0",
   "metadata": {},
   "outputs": [],
   "source": [
    "num_max = number_float.max()\n"
   ]
  },
  {
   "cell_type": "markdown",
   "id": "10f627ce",
   "metadata": {},
   "source": [
    "Run the code to discover the minimum value from the Series."
   ]
  },
  {
   "cell_type": "code",
   "execution_count": 14,
   "id": "ea433cdd",
   "metadata": {},
   "outputs": [],
   "source": [
    "num_min = number_float.min()"
   ]
  },
  {
   "cell_type": "markdown",
   "id": "9b8e7630",
   "metadata": {},
   "source": [
    "What is the range of the values in the Series?"
   ]
  },
  {
   "cell_type": "code",
   "execution_count": 17,
   "id": "9a9f31f6",
   "metadata": {},
   "outputs": [
    {
     "data": {
      "text/plain": [
       "4789709.57"
      ]
     },
     "execution_count": 17,
     "metadata": {},
     "output_type": "execute_result"
    }
   ],
   "source": [
    "number_range = num_max - num_min\n",
    "\n",
    "number_range"
   ]
  },
  {
   "cell_type": "markdown",
   "id": "59d20a69",
   "metadata": {},
   "source": [
    "Bin the data into 4 equally sized intervals or bins and output how many values fall into each bin."
   ]
  },
  {
   "cell_type": "code",
   "execution_count": 20,
   "id": "06f12092",
   "metadata": {},
   "outputs": [
    {
     "data": {
      "text/plain": [
       "(-4511.11, 1197705.993]       7\n",
       "(1197705.993, 2395133.385]    4\n",
       "(2395133.385, 3592560.778]    3\n",
       "(3592560.778, 4789988.17]     6\n",
       "dtype: int64"
      ]
     },
     "execution_count": 20,
     "metadata": {},
     "output_type": "execute_result"
    }
   ],
   "source": [
    "pd.cut(number_float, 4).value_counts().sort_index()"
   ]
  },
  {
   "cell_type": "markdown",
   "id": "5a4349d3",
   "metadata": {},
   "source": [
    "Plot the binned data in a meaningful way. Be sure to include a title and axis labels."
   ]
  },
  {
   "cell_type": "code",
   "execution_count": 24,
   "id": "31f40169",
   "metadata": {},
   "outputs": [
    {
     "data": {
      "text/plain": [
       "[Text(0.5, 0, 'length'), Text(0, 0.5, 'frequency')]"
      ]
     },
     "execution_count": 24,
     "metadata": {},
     "output_type": "execute_result"
    },
    {
     "data": {
      "image/png": "[encoded data removed]",
      "text/plain": [
       "<Figure size 432x288 with 1 Axes>"
      ]
     },
     "metadata": {
      "needs_background": "light"
     },
     "output_type": "display_data"
    }
   ],
   "source": [
    "pd.cut(number_float, 4).value_counts().sort_index().plot.barh(color = 'green', title = 'binned data quetion', width= .9).set(xlabel='length', ylabel='frequency')"
   ]
  },
  {
   "cell_type": "markdown",
   "id": "003e3317",
   "metadata": {},
   "source": [
    "    [60, 86, 75, 62, 93, 71, 60, 83, 95, 78, 65, 72, 69, 81, 96, 80, 85, 92, 82, 78]\n"
   ]
  },
  {
   "cell_type": "code",
   "execution_count": 30,
   "id": "3a44fe84",
   "metadata": {},
   "outputs": [
    {
     "data": {
      "text/plain": [
       "0     60\n",
       "1     86\n",
       "2     75\n",
       "3     62\n",
       "4     93\n",
       "5     71\n",
       "6     60\n",
       "7     83\n",
       "8     95\n",
       "9     78\n",
       "10    65\n",
       "11    72\n",
       "12    69\n",
       "13    81\n",
       "14    96\n",
       "15    80\n",
       "16    85\n",
       "17    92\n",
       "18    82\n",
       "19    78\n",
       "dtype: int64"
      ]
     },
     "execution_count": 30,
     "metadata": {},
     "output_type": "execute_result"
    }
   ],
   "source": [
    "scores = pd.Series([60, 86, 75, 62, 93, 71, 60, 83, 95, 78, 65, 72, 69, 81, 96, 80, 85, 92, 82, 78])\n",
    "\n",
    "scores"
   ]
  },
  {
   "cell_type": "code",
   "execution_count": 27,
   "id": "69e394f0",
   "metadata": {},
   "outputs": [
    {
     "data": {
      "text/plain": [
       "20"
      ]
     },
     "execution_count": 27,
     "metadata": {},
     "output_type": "execute_result"
    }
   ],
   "source": [
    "scores.size"
   ]
  },
  {
   "cell_type": "markdown",
   "id": "572f7c72",
   "metadata": {},
   "source": [
    "Run the code to discover the minimum, the maximum, the mean, and the median scores for the exam_scores Series."
   ]
  },
  {
   "cell_type": "code",
   "execution_count": 28,
   "id": "5049685c",
   "metadata": {},
   "outputs": [
    {
     "data": {
      "text/plain": [
       "96"
      ]
     },
     "execution_count": 28,
     "metadata": {},
     "output_type": "execute_result"
    }
   ],
   "source": [
    "scores.max()"
   ]
  },
  {
   "cell_type": "code",
   "execution_count": 29,
   "id": "95717f05",
   "metadata": {},
   "outputs": [
    {
     "data": {
      "text/plain": [
       "60"
      ]
     },
     "execution_count": 29,
     "metadata": {},
     "output_type": "execute_result"
    }
   ],
   "source": [
    "scores.min()"
   ]
  },
  {
   "cell_type": "code",
   "execution_count": 30,
   "id": "e4724447",
   "metadata": {},
   "outputs": [
    {
     "data": {
      "text/plain": [
       "79.0"
      ]
     },
     "execution_count": 30,
     "metadata": {},
     "output_type": "execute_result"
    }
   ],
   "source": [
    "scores.median()"
   ]
  },
  {
   "cell_type": "code",
   "execution_count": 31,
   "id": "42d26b1c",
   "metadata": {},
   "outputs": [
    {
     "data": {
      "text/plain": [
       "78.15"
      ]
     },
     "execution_count": 31,
     "metadata": {},
     "output_type": "execute_result"
    }
   ],
   "source": [
    "scores.mean()"
   ]
  },
  {
   "cell_type": "markdown",
   "id": "8f0ce641",
   "metadata": {},
   "source": [
    "Plot the Series in a meaningful way and make sure your chart has a title and axis labels"
   ]
  },
  {
   "cell_type": "code",
   "execution_count": 32,
   "id": "fcc017dc",
   "metadata": {},
   "outputs": [
    {
     "data": {
      "image/png": "[encoded data removed]",
      "text/plain": [
       "<Figure size 432x288 with 1 Axes>"
      ]
     },
     "metadata": {
      "needs_background": "light"
     },
     "output_type": "display_data"
    }
   ],
   "source": [
    "# Use Matplotlib to customize.\n",
    "\n",
    "scores.value_counts().plot.barh(color='firebrick', width=.9)\n",
    "plt.title('meaningfull scores example')\n",
    "plt.xticks(rotation=0)\n",
    "plt.xlabel('frequency')\n",
    "plt.ylabel('grades')\n",
    "\n",
    "plt.show()\n"
   ]
  },
  {
   "cell_type": "markdown",
   "id": "a4b888cc",
   "metadata": {},
   "source": [
    "Write the code necessary to implement a curve for your exam_grades Series and save this as curved_grades. \n",
    "\n",
    "adjust all yh\n",
    "Add the necessary points to the highest grade to make it 100, and \n",
    "\n",
    "\n",
    "add the same number of points to every other score in the Series as well.\n",
    "\n"
   ]
  },
  {
   "cell_type": "code",
   "execution_count": 31,
   "id": "0e80fefd",
   "metadata": {},
   "outputs": [
    {
     "data": {
      "text/plain": [
       "4"
      ]
     },
     "execution_count": 31,
     "metadata": {},
     "output_type": "execute_result"
    }
   ],
   "source": [
    "curve = 100 - scores.max()\n",
    "curve"
   ]
  },
  {
   "cell_type": "code",
   "execution_count": 32,
   "id": "0e739777",
   "metadata": {},
   "outputs": [
    {
     "data": {
      "text/plain": [
       "0      64\n",
       "1      90\n",
       "2      79\n",
       "3      66\n",
       "4      97\n",
       "5      75\n",
       "6      64\n",
       "7      87\n",
       "8      99\n",
       "9      82\n",
       "10     69\n",
       "11     76\n",
       "12     73\n",
       "13     85\n",
       "14    100\n",
       "15     84\n",
       "16     89\n",
       "17     96\n",
       "18     86\n",
       "19     82\n",
       "dtype: int64"
      ]
     },
     "execution_count": 32,
     "metadata": {},
     "output_type": "execute_result"
    }
   ],
   "source": [
    "new_curve = 4 + scores\n",
    "new_curve"
   ]
  },
  {
   "cell_type": "code",
   "execution_count": null,
   "id": "1cebfadc",
   "metadata": {},
   "outputs": [],
   "source": []
  },
  {
   "cell_type": "markdown",
   "id": "76feb13d",
   "metadata": {},
   "source": [
    "Use a method to convert each of the numeric values in the curved_grades Series into a categorical value of letter grades. For example, 86 should be a 'B' and 95 should be an 'A'. Save this as a Series named letter_grades.\n",
    "\n",
    "#this wuld be using the bins "
   ]
  },
  {
   "cell_type": "code",
   "execution_count": 33,
   "id": "9426c495",
   "metadata": {},
   "outputs": [
    {
     "data": {
      "text/plain": [
       "B    8\n",
       "D    4\n",
       "C    4\n",
       "A    4\n",
       "F    0\n",
       "dtype: int64"
      ]
     },
     "execution_count": 33,
     "metadata": {},
     "output_type": "execute_result"
    }
   ],
   "source": [
    "bins = [0, 60, 70, 80, 90, 100]\n",
    "\n",
    "labels = ['F', 'D', 'C', 'B', 'A']\n",
    "pd.cut(new_curve, bins = bins, labels = labels).value_counts()"
   ]
  },
  {
   "cell_type": "markdown",
   "id": "c5c568a7",
   "metadata": {},
   "source": [
    "Plot your new categorical letter_grades Series in a meaninful way and include a title and axis labels"
   ]
  },
  {
   "cell_type": "code",
   "execution_count": 35,
   "id": "3323565f",
   "metadata": {},
   "outputs": [
    {
     "data": {
      "text/plain": [
       "<AxesSubplot:>"
      ]
     },
     "execution_count": 35,
     "metadata": {},
     "output_type": "execute_result"
    },
    {
     "data": {
      "image/png": "[encoded data removed]",
      "text/plain": [
       "<Figure size 432x288 with 1 Axes>"
      ]
     },
     "metadata": {
      "needs_background": "light"
     },
     "output_type": "display_data"
    }
   ],
   "source": [
    "pd.cut(new_curve, bins = bins, labels = labels).value_counts().plot.barh()"
   ]
  },
  {
   "cell_type": "code",
   "execution_count": null,
   "id": "d9aa903d",
   "metadata": {},
   "outputs": [],
   "source": []
  }
 ],
 "metadata": {
  "kernelspec": {
   "display_name": "Python 3 (ipykernel)",
   "language": "python",
   "name": "python3"
  },
  "language_info": {
   "codemirror_mode": {
    "name": "ipython",
    "version": 3
   },
   "file_extension": ".py",
   "mimetype": "text/x-python",
   "name": "python",
   "nbconvert_exporter": "python",
   "pygments_lexer": "ipython3",
   "version": "3.9.12"
  }
 },
 "nbformat": 4,
 "nbformat_minor": 5
}
