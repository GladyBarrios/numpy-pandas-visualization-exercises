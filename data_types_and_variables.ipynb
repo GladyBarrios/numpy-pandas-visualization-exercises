{
 "cells": [
  {
   "cell_type": "code",
   "execution_count": null,
   "id": "9d83364e",
   "metadata": {},
   "outputs": [],
   "source": []
  },
  {
   "cell_type": "code",
   "execution_count": null,
   "id": "a1ed5dfb",
   "metadata": {},
   "outputs": [],
   "source": []
  },
  {
   "cell_type": "code",
   "execution_count": 3,
   "id": "7345a616",
   "metadata": {},
   "outputs": [
    {
     "data": {
      "text/plain": [
       "int"
      ]
     },
     "execution_count": 3,
     "metadata": {},
     "output_type": "execute_result"
    }
   ],
   "source": [
    "type(123)\n"
   ]
  },
  {
   "cell_type": "code",
   "execution_count": 4,
   "id": "95c5fa04",
   "metadata": {
    "scrolled": true
   },
   "outputs": [
    {
     "data": {
      "text/plain": [
       "str"
      ]
     },
     "execution_count": 4,
     "metadata": {},
     "output_type": "execute_result"
    }
   ],
   "source": [
    "type('hello')\n"
   ]
  },
  {
   "cell_type": "code",
   "execution_count": 5,
   "id": "e6d96423",
   "metadata": {
    "scrolled": true
   },
   "outputs": [
    {
     "data": {
      "text/plain": [
       "bool"
      ]
     },
     "execution_count": 5,
     "metadata": {},
     "output_type": "execute_result"
    }
   ],
   "source": [
    "type(True)\n",
    "\n"
   ]
  },
  {
   "cell_type": "code",
   "execution_count": 9,
   "id": "fa7c696c",
   "metadata": {},
   "outputs": [
    {
     "data": {
      "text/plain": [
       "bool"
      ]
     },
     "execution_count": 9,
     "metadata": {},
     "output_type": "execute_result"
    }
   ],
   "source": [
    "type (False)"
   ]
  },
  {
   "cell_type": "code",
   "execution_count": 10,
   "id": "9eb516c9",
   "metadata": {},
   "outputs": [
    {
     "data": {
      "text/plain": [
       "list"
      ]
     },
     "execution_count": 10,
     "metadata": {},
     "output_type": "execute_result"
    }
   ],
   "source": [
    "type ([{}])"
   ]
  },
  {
   "cell_type": "markdown",
   "id": "9830f099",
   "metadata": {},
   "source": [
    "excersise #1"
   ]
  },
  {
   "cell_type": "code",
   "execution_count": 11,
   "id": "26577851",
   "metadata": {},
   "outputs": [
    {
     "data": {
      "text/plain": [
       "dict"
      ]
     },
     "execution_count": 11,
     "metadata": {},
     "output_type": "execute_result"
    }
   ],
   "source": [
    "type({'a': []})"
   ]
  },
  {
   "cell_type": "code",
   "execution_count": 1,
   "id": "6d2aeba7",
   "metadata": {},
   "outputs": [
    {
     "data": {
      "text/plain": [
       "float"
      ]
     },
     "execution_count": 1,
     "metadata": {},
     "output_type": "execute_result"
    }
   ],
   "source": [
    "type(99.9)"
   ]
  },
  {
   "cell_type": "code",
   "execution_count": 2,
   "id": "bd1ffdd0",
   "metadata": {},
   "outputs": [
    {
     "data": {
      "text/plain": [
       "str"
      ]
     },
     "execution_count": 2,
     "metadata": {},
     "output_type": "execute_result"
    }
   ],
   "source": [
    "type(\"False\")"
   ]
  },
  {
   "cell_type": "code",
   "execution_count": 3,
   "id": "d25ae62f",
   "metadata": {},
   "outputs": [
    {
     "data": {
      "text/plain": [
       "bool"
      ]
     },
     "execution_count": 3,
     "metadata": {},
     "output_type": "execute_result"
    }
   ],
   "source": [
    "type(False\n",
    ")"
   ]
  },
  {
   "cell_type": "code",
   "execution_count": 4,
   "id": "7665b06b",
   "metadata": {},
   "outputs": [
    {
     "data": {
      "text/plain": [
       "str"
      ]
     },
     "execution_count": 4,
     "metadata": {},
     "output_type": "execute_result"
    }
   ],
   "source": [
    "type('0'\n",
    ")"
   ]
  },
  {
   "cell_type": "code",
   "execution_count": 5,
   "id": "7c7b75bf",
   "metadata": {},
   "outputs": [
    {
     "data": {
      "text/plain": [
       "bool"
      ]
     },
     "execution_count": 5,
     "metadata": {},
     "output_type": "execute_result"
    }
   ],
   "source": [
    "type(True\n",
    ")"
   ]
  },
  {
   "cell_type": "code",
   "execution_count": 6,
   "id": "ac43bd23",
   "metadata": {},
   "outputs": [
    {
     "data": {
      "text/plain": [
       "str"
      ]
     },
     "execution_count": 6,
     "metadata": {},
     "output_type": "execute_result"
    }
   ],
   "source": [
    "type('True'\n",
    ")"
   ]
  },
  {
   "cell_type": "code",
   "execution_count": 7,
   "id": "6a82ffb4",
   "metadata": {},
   "outputs": [
    {
     "data": {
      "text/plain": [
       "list"
      ]
     },
     "execution_count": 7,
     "metadata": {},
     "output_type": "execute_result"
    }
   ],
   "source": [
    "type([{}]\n",
    ")"
   ]
  },
  {
   "cell_type": "code",
   "execution_count": 8,
   "id": "9c797c94",
   "metadata": {},
   "outputs": [
    {
     "data": {
      "text/plain": [
       "dict"
      ]
     },
     "execution_count": 8,
     "metadata": {},
     "output_type": "execute_result"
    }
   ],
   "source": [
    "type({'a': []}\n",
    ")"
   ]
  },
  {
   "cell_type": "markdown",
   "id": "61058677",
   "metadata": {},
   "source": [
    "exercise #1 \n",
    "\n",
    "1- this is a float \n",
    "2- str\n",
    "3- bool\n",
    "4-str\n",
    "5-int\n",
    "6- bool\n",
    "7-int because of the ''\n",
    "8- list\n",
    "9- dict "
   ]
  },
  {
   "cell_type": "markdown",
   "id": "02cbf7b7",
   "metadata": {},
   "source": [
    "What data type would best represent:\n",
    "\n",
    "1- string\n",
    "2- bool\n",
    "3- i feel like it could be an int or a float\n",
    "4- bool\n",
    "5-string\n",
    "6-dict\n",
    "7- list\n",
    "8- dict\n"
   ]
  },
  {
   "cell_type": "code",
   "execution_count": null,
   "id": "93a052b5",
   "metadata": {},
   "outputs": [],
   "source": []
  },
  {
   "cell_type": "code",
   "execution_count": 18,
   "id": "e9e944f7",
   "metadata": {},
   "outputs": [
    {
     "name": "stdout",
     "output_type": "stream",
     "text": [
      "9\n",
      "15\n",
      "3\n"
     ]
    }
   ],
   "source": [
    "little_mermaid = 3*3\n",
    "\n",
    "brother_bear = 5*3\n",
    "\n",
    "hercules = 1*3\n",
    "\n",
    "print (little_mermaid) \n",
    "print (brother_bear)\n",
    "print (hercules)"
   ]
  },
  {
   "cell_type": "code",
   "execution_count": 12,
   "id": "92c1c84e",
   "metadata": {},
   "outputs": [
    {
     "name": "stdout",
     "output_type": "stream",
     "text": [
      "27\n"
     ]
    }
   ],
   "source": [
    "little_mermaid1 = 3\n",
    "brother_bear1 = 5\n",
    "hercules1 = 1\n",
    "\n",
    "price_of_movie_per_day = 3\n",
    "\n",
    "\n",
    "total_pay = (little_mermaid1 * price_of_movie_per_day) + (brother_bear1 * price_of_movie_per_day) + (hercules1 * price_of_movie_per_day)\n",
    "\n",
    "print(total_pay)"
   ]
  },
  {
   "cell_type": "code",
   "execution_count": 19,
   "id": "1a370b8e",
   "metadata": {},
   "outputs": [
    {
     "name": "stdout",
     "output_type": "stream",
     "text": [
      "2400\n",
      "3500\n",
      "1520\n"
     ]
    }
   ],
   "source": [
    "Google_pay_hours = 400*6\n",
    "facebook_pay = 350*10\n",
    "Amazon = 380*4\n",
    "\n",
    "print(Google_pay_hours)\n",
    "\n",
    "print (facebook_pay)\n",
    "print (Amazon)"
   ]
  },
  {
   "cell_type": "markdown",
   "id": "e3200d2c",
   "metadata": {},
   "source": [
    "A student can be enrolled to a class only if the class is not full and the class schedule does not conflict with her current schedule."
   ]
  },
  {
   "cell_type": "code",
   "execution_count": 29,
   "id": "f8d1566b",
   "metadata": {},
   "outputs": [
    {
     "name": "stdout",
     "output_type": "stream",
     "text": [
      "True\n"
     ]
    }
   ],
   "source": [
    "class_being_open = True\n",
    "class_conflicting_schedule = False \n",
    "\n",
    "the_new_schedule = class_being_open and not class_conflicting_schedule\n",
    "\n",
    "print (the_new_schedule)"
   ]
  },
  {
   "cell_type": "markdown",
   "id": "0e5f0f34",
   "metadata": {},
   "source": [
    "A product offer can be applied only if people buys more than 2 items, and the offer has not expired. Premium members do not need to buy a specific amount of products."
   ]
  },
  {
   "cell_type": "code",
   "execution_count": 41,
   "id": "6dbc9bb5",
   "metadata": {},
   "outputs": [],
   "source": [
    "product_offer = \"Greater_than_two\" and \"not_expired\"\n",
    "\n",
    "Premium_members=\"no_limit_for_purchase\"\n",
    "\n"
   ]
  },
  {
   "cell_type": "markdown",
   "id": "697f4a3f",
   "metadata": {},
   "source": [
    "Create a variable that holds a boolean value for each of the following conditions:"
   ]
  },
  {
   "cell_type": "code",
   "execution_count": 20,
   "id": "a06a0341",
   "metadata": {},
   "outputs": [],
   "source": [
    "username = 'codeup'\n",
    "password = 'notastrongpassword'\n"
   ]
  },
  {
   "cell_type": "code",
   "execution_count": 23,
   "id": "465244bd",
   "metadata": {},
   "outputs": [
    {
     "data": {
      "text/plain": [
       "True"
      ]
     },
     "execution_count": 23,
     "metadata": {},
     "output_type": "execute_result"
    }
   ],
   "source": [
    "6 >= 5"
   ]
  },
  {
   "cell_type": "code",
   "execution_count": 31,
   "id": "687bd0a3",
   "metadata": {},
   "outputs": [
    {
     "data": {
      "text/plain": [
       "True"
      ]
     },
     "execution_count": 31,
     "metadata": {},
     "output_type": "execute_result"
    }
   ],
   "source": [
    "18 <= 20"
   ]
  },
  {
   "cell_type": "code",
   "execution_count": 34,
   "id": "c65e2986",
   "metadata": {},
   "outputs": [
    {
     "data": {
      "text/plain": [
       "False"
      ]
     },
     "execution_count": 34,
     "metadata": {},
     "output_type": "execute_result"
    }
   ],
   "source": [
    "'username' == 'password'"
   ]
  },
  {
   "cell_type": "code",
   "execution_count": 35,
   "id": "a4b9f6c5",
   "metadata": {},
   "outputs": [
    {
     "data": {
      "text/plain": [
       "False"
      ]
     },
     "execution_count": 35,
     "metadata": {},
     "output_type": "execute_result"
    }
   ],
   "source": [
    "'username'== ' username'"
   ]
  },
  {
   "cell_type": "code",
   "execution_count": 36,
   "id": "e55d40f6",
   "metadata": {},
   "outputs": [
    {
     "data": {
      "text/plain": [
       "False"
      ]
     },
     "execution_count": 36,
     "metadata": {},
     "output_type": "execute_result"
    }
   ],
   "source": [
    "'password'== ' password'"
   ]
  },
  {
   "cell_type": "code",
   "execution_count": null,
   "id": "f28ad4af",
   "metadata": {},
   "outputs": [],
   "source": []
  }
 ],
 "metadata": {
  "kernelspec": {
   "display_name": "Python 3 (ipykernel)",
   "language": "python",
   "name": "python3"
  },
  "language_info": {
   "codemirror_mode": {
    "name": "ipython",
    "version": 3
   },
   "file_extension": ".py",
   "mimetype": "text/x-python",
   "name": "python",
   "nbconvert_exporter": "python",
   "pygments_lexer": "ipython3",
   "version": "3.9.12"
  }
 },
 "nbformat": 4,
 "nbformat_minor": 5
}
