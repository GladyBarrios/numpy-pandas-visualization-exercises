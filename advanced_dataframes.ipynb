{
 "cells": [
  {
   "cell_type": "code",
   "execution_count": null,
   "id": "3dc1dda3",
   "metadata": {},
   "outputs": [],
   "source": [
    "from env import host, user, password"
   ]
  },
  {
   "cell_type": "code",
   "execution_count": null,
   "id": "719d85d1",
   "metadata": {},
   "outputs": [],
   "source": [
    "\n",
    "get_db_url = f'mysql+pymysql://{user}:{password}@{host}/employees'\n"
   ]
  },
  {
   "cell_type": "code",
   "execution_count": null,
   "id": "8adf1c75",
   "metadata": {},
   "outputs": [],
   "source": [
    "import pandas as pd"
   ]
  },
  {
   "cell_type": "code",
   "execution_count": null,
   "id": "ff5441d2",
   "metadata": {},
   "outputs": [],
   "source": [
    "import numpy as np"
   ]
  },
  {
   "cell_type": "code",
   "execution_count": null,
   "id": "de2e1793",
   "metadata": {},
   "outputs": [],
   "source": []
  },
  {
   "cell_type": "markdown",
   "id": "311c104a",
   "metadata": {},
   "source": [
    "Use your function to obtain a connection to the employees database."
   ]
  },
  {
   "cell_type": "code",
   "execution_count": null,
   "id": "c34a67f8",
   "metadata": {},
   "outputs": [],
   "source": [
    "pd.read_sql('SELECT * FROM employees', get_db_url)\n"
   ]
  },
  {
   "cell_type": "markdown",
   "id": "37642011",
   "metadata": {},
   "source": [
    "Once you have successfully run a query:\n",
    "\n",
    "a. Intentionally make a typo in the database url. What kind of error message do you see?\n",
    "\n",
    "b. Intentionally make an error in your SQL query. What does the error message look like?"
   ]
  },
  {
   "cell_type": "code",
   "execution_count": null,
   "id": "376977e4",
   "metadata": {},
   "outputs": [],
   "source": [
    "#pd.read_sql('SELECT * FROM employeez', get_db_url)\n",
    "\n",
    "###tells me that employeez doe not exist. employeez is the typo"
   ]
  },
  {
   "cell_type": "code",
   "execution_count": null,
   "id": "1d50ae23",
   "metadata": {},
   "outputs": [],
   "source": [
    "pd.read_sql('SELECT cats FROM employees', get_db_url)\n",
    "\n",
    "##tells me that the collum does not exist "
   ]
  },
  {
   "cell_type": "code",
   "execution_count": null,
   "id": "dbcc4f1f",
   "metadata": {},
   "outputs": [],
   "source": []
  },
  {
   "cell_type": "markdown",
   "id": "1e845527",
   "metadata": {},
   "source": [
    "Read the employees and titles tables into two separate DataFrames."
   ]
  },
  {
   "cell_type": "code",
   "execution_count": null,
   "id": "f717da2c",
   "metadata": {},
   "outputs": [],
   "source": [
    "sql_employees = pd.read_sql('SELECT * FROM employees.employees', get_db_url)"
   ]
  },
  {
   "cell_type": "code",
   "execution_count": null,
   "id": "f335e57c",
   "metadata": {},
   "outputs": [],
   "source": [
    "sql_titles = pd.read_sql('SELECT * FROM employees.titles', get_db_url)"
   ]
  },
  {
   "cell_type": "markdown",
   "id": "92dde250",
   "metadata": {},
   "source": [
    "How many rows and columns do you have in each DataFrame? Is that what you expected?\n",
    "\n",
    "for the employees there are 300.024 rows and 6 collums \n",
    "\n",
    "for the titles there are 443 308\n",
    "\n",
    "yes that is expected unelees i did this wrong\n"
   ]
  },
  {
   "cell_type": "markdown",
   "id": "7b773bd8",
   "metadata": {},
   "source": [
    "Display the summary statistics for each DataFrame.\n",
    "\n",
    "#.describe ?"
   ]
  },
  {
   "cell_type": "code",
   "execution_count": null,
   "id": "e3a6d09b",
   "metadata": {
    "scrolled": true
   },
   "outputs": [],
   "source": [
    "sql_employees.describe()"
   ]
  },
  {
   "cell_type": "code",
   "execution_count": null,
   "id": "78ae32f4",
   "metadata": {},
   "outputs": [],
   "source": [
    "sql_titles.describe()"
   ]
  },
  {
   "cell_type": "markdown",
   "id": "668471ba",
   "metadata": {},
   "source": [
    "How many unique titles are in the titles DataFrame?"
   ]
  },
  {
   "cell_type": "code",
   "execution_count": null,
   "id": "75bacbf1",
   "metadata": {},
   "outputs": [],
   "source": [
    "sql_titles.title.value_counts()\n",
    "\n"
   ]
  },
  {
   "cell_type": "markdown",
   "id": "c3562f3f",
   "metadata": {},
   "source": [
    "What is the oldest date in the to_date column?\n",
    "\n",
    "#is going to be the 1985-03-01"
   ]
  },
  {
   "cell_type": "code",
   "execution_count": null,
   "id": "c0aa9d47",
   "metadata": {},
   "outputs": [],
   "source": [
    "sql_titles.sort_values(by= 'to_date')"
   ]
  },
  {
   "cell_type": "markdown",
   "id": "a71213f6",
   "metadata": {},
   "source": [
    "What is the most recent date in the to_date column?"
   ]
  },
  {
   "cell_type": "markdown",
   "id": "8126cc0e",
   "metadata": {},
   "source": [
    "most recent would be the currently employed 9999- 01-01\n"
   ]
  },
  {
   "cell_type": "code",
   "execution_count": null,
   "id": "ec83ab9a",
   "metadata": {},
   "outputs": [],
   "source": [
    "############################################################################################"
   ]
  },
  {
   "cell_type": "code",
   "execution_count": null,
   "id": "b941939c",
   "metadata": {},
   "outputs": [],
   "source": [
    "from pydataset import data\n"
   ]
  },
  {
   "cell_type": "code",
   "execution_count": null,
   "id": "bc2ff40f",
   "metadata": {},
   "outputs": [],
   "source": [
    "np.random.seed(123)"
   ]
  },
  {
   "cell_type": "code",
   "execution_count": null,
   "id": "1c52bd54",
   "metadata": {},
   "outputs": [],
   "source": [
    "students = ['Sally', 'Jane', 'Suzie', 'Billy', 'Ada', 'John', 'Thomas',\n",
    "            'Marie', 'Albert', 'Richard', 'Isaac', 'Alan']\n",
    "\n",
    "# Randomly generate arrays of scores for each student for each subject.\n",
    "# Note that all the values need to have the same length here.\n",
    "\n",
    "math_grades = np.random.randint(low=60, high=100, size=len(students))\n",
    "english_grades = np.random.randint(low=60, high=100, size=len(students))\n",
    "reading_grades = np.random.randint(low=60, high=100, size=len(students))"
   ]
  },
  {
   "cell_type": "code",
   "execution_count": null,
   "id": "d537cbb7",
   "metadata": {},
   "outputs": [],
   "source": [
    "\n",
    "df = pd.DataFrame({'name': students,\n",
    "                   'math': math_grades,\n",
    "                   'english': english_grades,\n",
    "                   'reading': reading_grades,\n",
    "                   'classroom': np.random.choice(['A', 'B'], len(students))})"
   ]
  },
  {
   "cell_type": "code",
   "execution_count": null,
   "id": "c8021aa3",
   "metadata": {
    "scrolled": true
   },
   "outputs": [],
   "source": [
    "df"
   ]
  },
  {
   "cell_type": "markdown",
   "id": "6bb96a7b",
   "metadata": {},
   "source": [
    "Copy the users and roles DataFrames from the examples above."
   ]
  },
  {
   "cell_type": "code",
   "execution_count": null,
   "id": "67f1e17d",
   "metadata": {},
   "outputs": [],
   "source": [
    "# Create the users DataFrame.\n",
    "\n",
    "users = pd.DataFrame({\n",
    "    'id': [1, 2, 3, 4, 5, 6],\n",
    "    'name': ['bob', 'joe', 'sally', 'adam', 'jane', 'mike'],\n",
    "    'role_id': [1, 2, 3, 3, np.nan, np.nan]\n",
    "})\n",
    "users\n"
   ]
  },
  {
   "cell_type": "code",
   "execution_count": null,
   "id": "ac1473ff",
   "metadata": {},
   "outputs": [],
   "source": [
    "# Create the roles DataFrame\n",
    "\n",
    "roles = pd.DataFrame({\n",
    "    'id': [1, 2, 3, 4],\n",
    "    'name': ['admin', 'author', 'reviewer', 'commenter']\n",
    "})\n",
    "roles\n"
   ]
  },
  {
   "cell_type": "markdown",
   "id": "863ad47b",
   "metadata": {},
   "source": [
    "What is the result of using a right join on the DataFrames?"
   ]
  },
  {
   "cell_type": "code",
   "execution_count": null,
   "id": "f67c078a",
   "metadata": {},
   "outputs": [],
   "source": [
    "users.merge(roles, left_on='role_id', right_on='id', how='right')"
   ]
  },
  {
   "cell_type": "markdown",
   "id": "22e540ed",
   "metadata": {},
   "source": [
    "What is the result of using an outer join on the DataFrames?"
   ]
  },
  {
   "cell_type": "code",
   "execution_count": null,
   "id": "32c79753",
   "metadata": {},
   "outputs": [],
   "source": [
    "users.merge(roles, left_on='role_id', right_on='id', how='outer')"
   ]
  },
  {
   "cell_type": "markdown",
   "id": "f12d7034",
   "metadata": {},
   "source": [
    "What happens if you drop the foreign keys from the DataFrames and try to merge them?"
   ]
  },
  {
   "cell_type": "code",
   "execution_count": null,
   "id": "27caf109",
   "metadata": {},
   "outputs": [],
   "source": [
    "user_drop = users.drop(columns=['role_id'])"
   ]
  },
  {
   "cell_type": "code",
   "execution_count": null,
   "id": "b56449b6",
   "metadata": {
    "scrolled": true
   },
   "outputs": [],
   "source": [
    "rol_drop = roles.drop(columns=['id'])"
   ]
  },
  {
   "cell_type": "code",
   "execution_count": null,
   "id": "0e7880ff",
   "metadata": {},
   "outputs": [],
   "source": [
    "#user_drop.merge(rol_drop, left_on='role_id', right_on='id', how='inner')"
   ]
  },
  {
   "cell_type": "code",
   "execution_count": null,
   "id": "010b7748",
   "metadata": {},
   "outputs": [],
   "source": [
    "#after dropping it it did not want to merge by the same criteria again"
   ]
  },
  {
   "cell_type": "markdown",
   "id": "8db266b4",
   "metadata": {},
   "source": [
    "Output and read the documentation for the mpg dataset."
   ]
  },
  {
   "cell_type": "code",
   "execution_count": null,
   "id": "67633854",
   "metadata": {
    "scrolled": true
   },
   "outputs": [],
   "source": [
    " data('mpg', show_doc=True) # view the documentation for the dataset\n",
    "mpg = data('mpg') # load the dataset and store it in a variable\n"
   ]
  },
  {
   "cell_type": "code",
   "execution_count": null,
   "id": "5ba33d6a",
   "metadata": {},
   "outputs": [],
   "source": [
    "mpg"
   ]
  },
  {
   "cell_type": "markdown",
   "id": "dda9c628",
   "metadata": {},
   "source": [
    "How many rows and columns are in the dataset?"
   ]
  },
  {
   "cell_type": "code",
   "execution_count": null,
   "id": "0a33ebfe",
   "metadata": {},
   "outputs": [],
   "source": [
    "mpg.shape"
   ]
  },
  {
   "cell_type": "markdown",
   "id": "f5c387f4",
   "metadata": {},
   "source": [
    "Check out your column names and perform any cleanup you may want on them.\n",
    "\n"
   ]
  },
  {
   "cell_type": "code",
   "execution_count": null,
   "id": "97697c03",
   "metadata": {
    "scrolled": true
   },
   "outputs": [],
   "source": [
    "mpg = mpg.rename(columns={'cty': 'city'})"
   ]
  },
  {
   "cell_type": "code",
   "execution_count": null,
   "id": "d74de9b9",
   "metadata": {},
   "outputs": [],
   "source": [
    "mpg = mpg.rename(columns={'hwy': 'highway'})"
   ]
  },
  {
   "cell_type": "code",
   "execution_count": null,
   "id": "1f21b096",
   "metadata": {},
   "outputs": [],
   "source": [
    "mpg"
   ]
  },
  {
   "cell_type": "markdown",
   "id": "1985681e",
   "metadata": {},
   "source": [
    "Display the summary statistics for the dataset.\n",
    "\n"
   ]
  },
  {
   "cell_type": "code",
   "execution_count": null,
   "id": "ce31744d",
   "metadata": {},
   "outputs": [],
   "source": [
    "mpg.describe()"
   ]
  },
  {
   "cell_type": "markdown",
   "id": "8ae05cd1",
   "metadata": {},
   "source": [
    "How many different manufacturers are there?"
   ]
  },
  {
   "cell_type": "code",
   "execution_count": null,
   "id": "d6cfbda3",
   "metadata": {},
   "outputs": [],
   "source": [
    "mpg.manufacturer.value_counts()"
   ]
  },
  {
   "cell_type": "markdown",
   "id": "8b303a99",
   "metadata": {},
   "source": [
    "How many different models are there?"
   ]
  },
  {
   "cell_type": "code",
   "execution_count": null,
   "id": "0cb86155",
   "metadata": {},
   "outputs": [],
   "source": [
    "mpg.model.value_counts()"
   ]
  },
  {
   "cell_type": "markdown",
   "id": "79533d3a",
   "metadata": {},
   "source": [
    "Create a column named mileage_difference like you did in the DataFrames exercises; \n",
    "\n",
    "this column should contain the difference between highway and city mileage for each car."
   ]
  },
  {
   "cell_type": "code",
   "execution_count": null,
   "id": "302ce9ca",
   "metadata": {},
   "outputs": [],
   "source": [
    "mpg['mileage_difference'] = mpg.highway-mpg.city\n",
    "mpg"
   ]
  },
  {
   "cell_type": "markdown",
   "id": "e80a3c6f",
   "metadata": {},
   "source": [
    "Create a column named average_mileage like you did in the DataFrames exercises; this is the mean of the city and highway mileage."
   ]
  },
  {
   "cell_type": "code",
   "execution_count": null,
   "id": "959f6cfa",
   "metadata": {},
   "outputs": [],
   "source": [
    "mpg['average_mileage'] = mpg.city + mpg.highway / 2\n",
    "\n",
    "mpg"
   ]
  },
  {
   "cell_type": "markdown",
   "id": "24056a21",
   "metadata": {},
   "source": [
    "Create a new column on the mpg dataset named is_automatic that holds boolean values denoting whether the car has an automatic transmission."
   ]
  },
  {
   "cell_type": "code",
   "execution_count": null,
   "id": "0169515d",
   "metadata": {
    "scrolled": true
   },
   "outputs": [],
   "source": [
    "mpg['is_automatic '] = mpg.trans.str.startswith('a')\n",
    "\n",
    "mpg"
   ]
  },
  {
   "cell_type": "code",
   "execution_count": null,
   "id": "02e9df43",
   "metadata": {},
   "outputs": [],
   "source": []
  },
  {
   "cell_type": "markdown",
   "id": "3fde51a1",
   "metadata": {},
   "source": [
    "Using the mpg dataset, find out which which manufacturer has the best miles per gallon on average?"
   ]
  },
  {
   "cell_type": "code",
   "execution_count": null,
   "id": "14f58e34",
   "metadata": {
    "scrolled": true
   },
   "outputs": [],
   "source": [
    "mpg.average_mileage.nsmallest()"
   ]
  },
  {
   "cell_type": "code",
   "execution_count": null,
   "id": "1dee1c30",
   "metadata": {},
   "outputs": [],
   "source": [
    "mpg.groupby('manufacturer')[['average_mileage']]"
   ]
  },
  {
   "cell_type": "code",
   "execution_count": null,
   "id": "6de211e9",
   "metadata": {},
   "outputs": [],
   "source": [
    "mpg.groupby('manufacturer').average_mileage.min().sort_values(ascending=False).head(1)"
   ]
  },
  {
   "cell_type": "markdown",
   "id": "b81f7e79",
   "metadata": {},
   "source": [
    "Do automatic or manual cars have better miles per gallon?"
   ]
  },
  {
   "cell_type": "code",
   "execution_count": null,
   "id": "91279a8c",
   "metadata": {},
   "outputs": [],
   "source": [
    "mpg.groupby('trans')['average_mileage'].agg(['min'])"
   ]
  },
  {
   "cell_type": "code",
   "execution_count": null,
   "id": "fb0cdecd",
   "metadata": {},
   "outputs": [],
   "source": [
    "###################################################################################"
   ]
  },
  {
   "cell_type": "markdown",
   "id": "2befb1f5",
   "metadata": {},
   "source": [
    "Use your get_db_url function to help you explore the data from the chipotle database."
   ]
  },
  {
   "cell_type": "code",
   "execution_count": null,
   "id": "4e7adf1c",
   "metadata": {
    "scrolled": true
   },
   "outputs": [],
   "source": [
    "orders = pd.read_sql('SELECT * FROM orders', get_db_url)\n",
    "orders"
   ]
  },
  {
   "cell_type": "code",
   "execution_count": null,
   "id": "570c7561",
   "metadata": {},
   "outputs": [],
   "source": [
    "orders.info()\n",
    "\n",
    "## im guessing for the first question i should convert the item price to an integer "
   ]
  },
  {
   "cell_type": "markdown",
   "id": "9fa51080",
   "metadata": {},
   "source": [
    "What is the total price for each order?"
   ]
  },
  {
   "cell_type": "code",
   "execution_count": null,
   "id": "1e9143dd",
   "metadata": {
    "scrolled": true
   },
   "outputs": [],
   "source": [
    "\n",
    "#orders['item_price'] = orders.item_price.str.replace('$', '')\n",
    "\n"
   ]
  },
  {
   "cell_type": "code",
   "execution_count": null,
   "id": "ced69162",
   "metadata": {},
   "outputs": [],
   "source": [
    "order_totals = orders.groupby('order_id').item_price.sum()\n",
    "order_totals"
   ]
  },
  {
   "cell_type": "code",
   "execution_count": null,
   "id": "951561e0",
   "metadata": {},
   "outputs": [],
   "source": []
  },
  {
   "cell_type": "markdown",
   "id": "79c25cc4",
   "metadata": {},
   "source": [
    "What are the most popular 3 items?"
   ]
  },
  {
   "cell_type": "code",
   "execution_count": null,
   "id": "77f83fa4",
   "metadata": {
    "scrolled": true
   },
   "outputs": [],
   "source": [
    "orders.groupby('item_name').sum().sort_values(by= 'quantity', ascending=False).head(3)"
   ]
  },
  {
   "cell_type": "code",
   "execution_count": null,
   "id": "38691ba4",
   "metadata": {},
   "outputs": [],
   "source": []
  },
  {
   "cell_type": "markdown",
   "id": "b15a6d7c",
   "metadata": {},
   "source": [
    "Which item has produced the most revenue?"
   ]
  },
  {
   "cell_type": "code",
   "execution_count": null,
   "id": "8ae7945a",
   "metadata": {},
   "outputs": [],
   "source": [
    "orders.groupby('item_name').sum().sort_values(by= 'item_price',ascending=False).head(1)"
   ]
  },
  {
   "cell_type": "markdown",
   "id": "1341fc16",
   "metadata": {},
   "source": [
    "Join the employees and titles DataFrames together."
   ]
  },
  {
   "cell_type": "code",
   "execution_count": null,
   "id": "ee04c65c",
   "metadata": {},
   "outputs": [],
   "source": [
    "employees = pd.read_sql('SELECT * FROM employees JOIN titles using (emp_no)', get_db_url)"
   ]
  },
  {
   "cell_type": "markdown",
   "id": "847ae8b1",
   "metadata": {},
   "source": [
    "For each title, find the hire date of the employee that was hired most recently with that title.\n",
    "\n"
   ]
  },
  {
   "cell_type": "code",
   "execution_count": null,
   "id": "4d0624ad",
   "metadata": {},
   "outputs": [],
   "source": [
    "employees.groupby('hire_date').max().sort_values(by= 'hire_date',ascending=False).head(1)"
   ]
  },
  {
   "cell_type": "markdown",
   "id": "52463a1c",
   "metadata": {},
   "source": [
    "Write the code necessary to create a cross tabulation of the number of titles by department. (Hint: this will involve a combination of SQL code to pull the necessary data and python/pandas code to perform the manipulations.)"
   ]
  },
  {
   "cell_type": "code",
   "execution_count": null,
   "id": "91ef128f",
   "metadata": {},
   "outputs": [],
   "source": [
    "dept_title_query = '''\n",
    "\n",
    "                    SELECT t.emp_no, \n",
    "                    t.title, \n",
    "                    t.from_date, \n",
    "                    t.to_date, \n",
    "                    d.dept_name \n",
    "                    FROM departments AS d \n",
    "                    JOIN dept_emp AS de USING(dept_no) \n",
    "                    JOIN titles AS t USING(emp_no);\n",
    "\n",
    "                    '''"
   ]
  },
  {
   "cell_type": "code",
   "execution_count": null,
   "id": "8f16a82c",
   "metadata": {},
   "outputs": [],
   "source": [
    "dept_titles = pd.read_sql(dept_title_query, get_db_url('employees'))"
   ]
  },
  {
   "cell_type": "code",
   "execution_count": null,
   "id": "12f2a1be",
   "metadata": {},
   "outputs": [],
   "source": [
    "current_titles = dept_titles[dept_titles.to_date == dept_titles.to_date.max()]\n",
    "\n"
   ]
  },
  {
   "cell_type": "code",
   "execution_count": null,
   "id": "36df6e7a",
   "metadata": {},
   "outputs": [],
   "source": [
    "current_titles_crosstab = pd.crosstab(current_titles.dept_name, current_titles.title)\n",
    "current_titles_crosstab"
   ]
  }
 ],
 "metadata": {
  "kernelspec": {
   "display_name": "Python 3 (ipykernel)",
   "language": "python",
   "name": "python3"
  },
  "language_info": {
   "codemirror_mode": {
    "name": "ipython",
    "version": 3
   },
   "file_extension": ".py",
   "mimetype": "text/x-python",
   "name": "python",
   "nbconvert_exporter": "python",
   "pygments_lexer": "ipython3",
   "version": "3.9.12"
  }
 },
 "nbformat": 4,
 "nbformat_minor": 5
}
